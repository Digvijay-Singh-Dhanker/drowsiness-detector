{
 "cells": [
  {
   "cell_type": "code",
   "execution_count": 1,
   "id": "3d6582c4",
   "metadata": {},
   "outputs": [
    {
     "name": "stderr",
     "output_type": "stream",
     "text": [
      "C:\\Users\\Digvijay Singh Dhank\\anaconda3\\envs\\drowsy\\lib\\site-packages\\tqdm\\auto.py:22: TqdmWarning: IProgress not found. Please update jupyter and ipywidgets. See https://ipywidgets.readthedocs.io/en/stable/user_install.html\n",
      "  from .autonotebook import tqdm as notebook_tqdm\n"
     ]
    }
   ],
   "source": [
    "import torch\n",
    "from matplotlib import pyplot as plt\n",
    "import numpy as np\n",
    "import cv2\n",
    "import pandas as pd\n",
    "import uuid   # Unique identifier\n",
    "import os\n",
    "import time\n",
    "import psycopg2\n",
    "hostname = 'localhost'\n",
    "database = 'employeeDB'\n",
    "username = 'postgres'\n",
    "pwd = 'admin'\n",
    "port_id = 5432\n",
    "conn = psycopg2.connect(host=hostname, dbname=database, user=username, password=pwd, port=port_id)\n",
    "cur = conn.cursor()"
   ]
  },
  {
   "cell_type": "code",
   "execution_count": 2,
   "id": "d49dc8a0",
   "metadata": {},
   "outputs": [],
   "source": [
    "# !cd yolov5 && python train.py --img 320 --batch 16 --epochs 500 --data dataset.yml --weights yolov5s.pt --workers 2"
   ]
  },
  {
   "cell_type": "code",
   "execution_count": 5,
   "id": "5299daca",
   "metadata": {},
   "outputs": [
    {
     "name": "stderr",
     "output_type": "stream",
     "text": [
      "Downloading: \"https://github.com/ultralytics/yolov5/archive/master.zip\" to C:\\Users\\Digvijay Singh Dhank/.cache\\torch\\hub\\master.zip\n",
      "YOLOv5  2022-5-28 Python-3.8.13 torch-1.8.2+cpu CPU\n",
      "\n",
      "Fusing layers... \n",
      "Model summary: 213 layers, 7055974 parameters, 0 gradients, 15.9 GFLOPs\n",
      "Adding AutoShape... \n"
     ]
    }
   ],
   "source": [
    "model = torch.hub.load('ultralytics/yolov5', 'custom', path='yolov5/runs/train/exp/weights/last.pt', force_reload=True)"
   ]
  },
  {
   "cell_type": "code",
   "execution_count": 6,
   "id": "b1a16d27",
   "metadata": {},
   "outputs": [],
   "source": [
    "cap = cv2.VideoCapture(0)\n",
    "var = \"\"\n",
    "employee_score = 95;\n",
    "employee_name = \"Bill\\n\"\n",
    "employee_id = 123\n",
    "while cap.isOpened():\n",
    "    ret, frame = cap.read()\n",
    "    cv2.rectangle(frame, (0, 0), (525, 73), (245, 117, 16), -1)\n",
    "    cv2.putText(frame, \"Employee Name:\", (15, 12),\n",
    "                        cv2.FONT_HERSHEY_SIMPLEX, 0.5, (0, 0, 0), 1, cv2.LINE_AA)\n",
    "    cv2.putText(frame, \"Employee I.D.:\",\n",
    "                        (10, 60),\n",
    "                        cv2.FONT_HERSHEY_SIMPLEX, 0.5, (0, 0, 0), 1, cv2.LINE_AA)\n",
    "    cv2.putText(frame, employee_name, (180, 12),\n",
    "                        cv2.FONT_HERSHEY_SIMPLEX, 0.5, (0, 0, 0), 1, cv2.LINE_AA)\n",
    "    cv2.putText(frame, str(employee_id),\n",
    "                        (180, 60),\n",
    "                        cv2.FONT_HERSHEY_SIMPLEX, 0.5, (0, 0, 0), 1, cv2.LINE_AA)\n",
    "    # Make detections \n",
    "    results = model(frame)\n",
    "    cv2.imshow('YOLO', np.squeeze(results.render()))\n",
    "    \n",
    "    df = results.pandas().xyxy[0]\n",
    "    d_count=df['name'].str.contains('drowsy').sum()\n",
    "    if d_count>0:\n",
    "        employee_score = employee_score - d_count\n",
    "        score = employee_score.item()\n",
    "        sql = \"UPDATE employee SET score = array_append(score, %s) WHERE name = %s\"\n",
    "        var = (score,employee_name,)\n",
    "        cur.execute(sql, var)\n",
    "        \n",
    "            \n",
    "        \n",
    "#         if d_count==1:\n",
    "#             print(\"sleeping\")\n",
    "#         else:\n",
    "#             print(\"awake\")\n",
    "    \n",
    "    \n",
    "    if cv2.waitKey(10) & 0xFF == ord('q'):\n",
    "        conn.commit()\n",
    "        break\n",
    "cap.release()\n",
    "cv2.destroyAllWindows()"
   ]
  },
  {
   "cell_type": "code",
   "execution_count": null,
   "id": "b68011a1",
   "metadata": {},
   "outputs": [],
   "source": [
    "conn = psycopg2.connect(host=hostname, dbname=database, user=username, password=pwd, port=port_id)\n",
    "cur = conn.cursor()"
   ]
  },
  {
   "cell_type": "code",
   "execution_count": null,
   "id": "4fb3e2e0",
   "metadata": {},
   "outputs": [],
   "source": [
    "cur.close()\n",
    "conn.close()"
   ]
  },
  {
   "cell_type": "code",
   "execution_count": null,
   "id": "1dd3547c",
   "metadata": {},
   "outputs": [],
   "source": [
    "my_table    = pd.read_sql('select * from employee', conn)\n",
    "print(my_table)"
   ]
  }
 ],
 "metadata": {
  "kernelspec": {
   "display_name": "drowsy",
   "language": "python",
   "name": "drowsy"
  },
  "language_info": {
   "codemirror_mode": {
    "name": "ipython",
    "version": 3
   },
   "file_extension": ".py",
   "mimetype": "text/x-python",
   "name": "python",
   "nbconvert_exporter": "python",
   "pygments_lexer": "ipython3",
   "version": "3.8.13"
  }
 },
 "nbformat": 4,
 "nbformat_minor": 5
}
